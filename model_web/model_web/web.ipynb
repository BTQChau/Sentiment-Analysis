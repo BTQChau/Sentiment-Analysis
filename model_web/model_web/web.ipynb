{
 "cells": [
  {
   "cell_type": "markdown",
   "metadata": {},
   "source": [
    "# Import thư viện"
   ]
  },
  {
   "cell_type": "code",
   "execution_count": 22,
   "metadata": {},
   "outputs": [],
   "source": [
    "import re\n",
    "import nltk\n",
    "import matplotlib.pyplot as plt\n",
    "import pandas as pd\n",
    "import numpy as np\n",
    "import json\n",
    "from pyvi import ViTokenizer  \n",
    "import emoji\n",
    "from sklearn.feature_extraction.text import TfidfVectorizer\n",
    "import pickle\n",
    "import os \n",
    "from tensorflow.keras.models import model_from_json\n",
    "from tensorflow.keras.preprocessing.sequence import pad_sequences\n",
    "\n",
    "# Set NumPy print options\n",
    "np.set_printoptions(precision=2, linewidth=80)\n",
    "import seaborn as sns"
   ]
  },
  {
   "cell_type": "code",
   "execution_count": 3,
   "metadata": {},
   "outputs": [
    {
     "name": "stderr",
     "output_type": "stream",
     "text": [
      "[nltk_data] Downloading package punkt to\n",
      "[nltk_data]     C:\\Users\\User\\AppData\\Roaming\\nltk_data...\n",
      "[nltk_data]   Package punkt is already up-to-date!\n",
      "[nltk_data] Downloading package stopwords to\n",
      "[nltk_data]     C:\\Users\\User\\AppData\\Roaming\\nltk_data...\n",
      "[nltk_data]   Package stopwords is already up-to-date!\n",
      "[nltk_data] Downloading package punkt_tab to\n",
      "[nltk_data]     C:\\Users\\User\\AppData\\Roaming\\nltk_data...\n",
      "[nltk_data]   Package punkt_tab is already up-to-date!\n"
     ]
    },
    {
     "data": {
      "text/plain": [
       "True"
      ]
     },
     "execution_count": 3,
     "metadata": {},
     "output_type": "execute_result"
    }
   ],
   "source": [
    "nltk.download('punkt')\n",
    "nltk.download(\"stopwords\")\n",
    "nltk.download('punkt_tab')"
   ]
  },
  {
   "cell_type": "markdown",
   "metadata": {},
   "source": [
    "# Tiền xử lý dữ liệu"
   ]
  },
  {
   "cell_type": "code",
   "execution_count": 4,
   "metadata": {},
   "outputs": [],
   "source": [
    "def lay_file_sua_du_lieu(dia_chi_luu_file_sua_chinh_ta):\n",
    "    loaded_dict_list = []\n",
    "    file_names = ['sua_viet_tat','sua_chinh_ta','dich_tieng_anh']\n",
    "    \n",
    "    for file_name in file_names:\n",
    "        with open(f'{dia_chi_luu_file_sua_chinh_ta}/{file_name}.json', \"r\", encoding=\"utf-8\") as file:\n",
    "            loaded_dict = json.load(file)\n",
    "            loaded_dict_list.append(loaded_dict) \n",
    "               \n",
    "    return loaded_dict_list"
   ]
  },
  {
   "cell_type": "code",
   "execution_count": 5,
   "metadata": {},
   "outputs": [],
   "source": [
    "def normalize_acronyms(text, replace_list):\n",
    "    for k, v in replace_list.items():\n",
    "        text = text.replace(k, v)\n",
    "    return text"
   ]
  },
  {
   "cell_type": "code",
   "execution_count": 9,
   "metadata": {},
   "outputs": [],
   "source": [
    "# Hàm tiền xử lý văn bản\n",
    "def preprocess_normalize_text(text, dia_chi_luu_file_sua_chinh_ta):\n",
    "    text = str(text)  # Đảm bảo đầu vào là chuỗi\n",
    "    text = text.lower()  # Chuyển về chữ thường\n",
    "    text = re.sub(r\"(.)\\1{2,}\", r\"\\1\", text) # Loại bỏ ký tự kéo dài 2 lần trở lên\n",
    "    text = re.sub(r\"\\d+\", \"\", text)  # Xóa số\n",
    "    text = re.sub(r\"[^\\w\\s\\u00C0-\\u1FFF\\u2C00-\\uD7FF]\", \" \", text) # Loại bỏ các ký tự đặc biệt\n",
    "    text = ' ' + text + ' '  # Thêm khoảng trắng vào đầu và cuối text\n",
    "    \n",
    "    replace_list = lay_file_sua_du_lieu(dia_chi_luu_file_sua_chinh_ta)\n",
    "    for list in replace_list:\n",
    "        text = normalize_acronyms(text, list)  # Chuẩn hóa từ viết tắt\n",
    "    \n",
    "    return text"
   ]
  },
  {
   "cell_type": "code",
   "execution_count": 35,
   "metadata": {},
   "outputs": [],
   "source": [
    "def stopword_and_tokenize_text(text, stopwords_path):\n",
    "    # # Xử lý biểu tượng cảm xúc\n",
    "    # text = emoji.demojize(text)\n",
    "    # text = re.sub(r\":\\w*:\", lambda match: \"positive\" if \"smile\" in match.group() or \"heart\" in match.group() else \"negative\", text)\n",
    "\n",
    "    # Tách từ \n",
    "    text = ViTokenizer.tokenize(text)\n",
    "\n",
    "    # Loại bỏ stopwords\n",
    "    if stopwords_path:\n",
    "        with open(f'{stopwords_path}/vietnamese-stopwords.txt', \"r\", encoding=\"utf-8\") as f:\n",
    "            stopwords = set(word.strip() for word in f.readlines())\n",
    "        text = \" \".join(word for word in text.split() if word not in stopwords)\n",
    "\n",
    "    return text"
   ]
  },
  {
   "cell_type": "markdown",
   "metadata": {},
   "source": [
    "# Mô hình Bi-LSTM"
   ]
  },
  {
   "cell_type": "code",
   "execution_count": 30,
   "metadata": {},
   "outputs": [],
   "source": [
    "def tao_mo_hinh(data_path):\n",
    "    # Hàm để lấy đường dẫn file theo tên\n",
    "    def get_file_by_name(directory, filename):\n",
    "        file_path = os.path.join(directory, filename)\n",
    "        if not os.path.exists(file_path):\n",
    "            raise FileNotFoundError(f\"Không tìm thấy file '{filename}' trong thư mục '{directory}'\")\n",
    "        return file_path\n",
    "\n",
    "    # Đọc cấu trúc mô hình từ file JSON\n",
    "    json_path = get_file_by_name(data_path, \"model_structure.json\")\n",
    "    with open(json_path, \"r\") as json_file:\n",
    "        model_json = json_file.read()\n",
    "\n",
    "    # Tạo mô hình từ cấu trúc JSON\n",
    "    model = model_from_json(model_json)\n",
    "\n",
    "    print(\"Cấu trúc model đã được tải thành công!\")\n",
    "\n",
    "    # Đọc trọng số mô hình từ file pickle\n",
    "    weights_path = get_file_by_name(data_path, \"model_weights.pkl\")\n",
    "    with open(weights_path, \"rb\") as weights_file:\n",
    "        model.set_weights(pickle.load(weights_file))\n",
    "        \n",
    "    print(\"Trọng số model đã được tải thành công!\")\n",
    "\n",
    "    # Tải tokenizer từ file\n",
    "    tokenizer_path = get_file_by_name(data_path, \"tokenizer.pkl\")\n",
    "    with open(tokenizer_path, \"rb\") as f:\n",
    "        tokenizer = pickle.load(f)\n",
    "\n",
    "    print(\"Tokenizer đã được tải thành công!\")\n",
    "    max_length = 60\n",
    "    return model, tokenizer, max_length"
   ]
  },
  {
   "cell_type": "code",
   "execution_count": 48,
   "metadata": {},
   "outputs": [],
   "source": [
    "import numpy as np\n",
    "\n",
    "def predict_sentiment(model, tokenizer, input_texts, max_length):\n",
    "    \"\"\"\n",
    "    Hàm dự đoán cảm xúc từ văn bản.\n",
    "    \n",
    "    Args:\n",
    "        model: Mô hình đã huấn luyện.\n",
    "        tokenizer: Bộ tokenizer đã sử dụng để huấn luyện mô hình.\n",
    "        text: Văn bản đầu vào cần dự đoán (chuỗi hoặc danh sách chuỗi).\n",
    "        max_length: Độ dài tối đa đã sử dụng khi pad chuỗi.\n",
    "\n",
    "    Returns:\n",
    "        Lớp cảm xúc dự đoán (giá trị từ 1 đến 5).\n",
    "    \"\"\"\n",
    "    if isinstance(input_texts, str):  # Nếu đầu vào là một chuỗi\n",
    "        text = [input_texts]\n",
    "    elif isinstance(input_texts, list):  # Nếu là danh sách các chuỗi\n",
    "        text = input_texts\n",
    "        \n",
    "    # Tokenize và pad chuỗi\n",
    "    sequences = tokenizer.texts_to_sequences(text)\n",
    "    padded_sequences = pad_sequences(sequences, maxlen = max_length, padding = 'post', truncating = 'post')\n",
    "\n",
    "    # Dự đoán\n",
    "    predictions = model.predict(padded_sequences)\n",
    "    \n",
    "    # # Trả về lớp cảm xúc dự đoán (giá trị từ 1 đến 5)\n",
    "    # predicted_labels = np.argmax(predictions, axis=1) + 1  # Shift lại từ [0, 4] về [1, 5]\n",
    "    \n",
    "    # Danh sách nhãn cảm xúc\n",
    "    labels = [\"Rất tiêu cực\", \"Tiêu cực\", \"Trung tính\", \"Tích cực\", \"Rất tích cực\"]\n",
    "    nhan_so_sao = ['1','2','3','4','5']\n",
    "    # Ánh xạ predicted_labels thành các nhãn cảm xúc\n",
    "    predicted_label = np.argmax(predictions, axis=1)[0]\n",
    "    emotional_label = labels[predicted_label]\n",
    "    so_sao = nhan_so_sao[predicted_label]  \n",
    "    # Chuyển đổi các xác suất thành phần trăm\n",
    "    predictions_percentage = predictions[0] * 100  # Chuyển xác suất thành phần trăm\n",
    "    percent_result = max(predictions_percentage)  # Lấy phần trăm cao nhất\n",
    "\n",
    "    return emotional_label, percent_result, so_sao"
   ]
  },
  {
   "cell_type": "markdown",
   "metadata": {},
   "source": [
    "# Tải khi khởi chạy Web"
   ]
  },
  {
   "cell_type": "code",
   "execution_count": 80,
   "metadata": {},
   "outputs": [
    {
     "name": "stdout",
     "output_type": "stream",
     "text": [
      "Cấu trúc model đã được tải thành công!\n",
      "Trọng số model đã được tải thành công!\n",
      "Tokenizer đã được tải thành công!\n",
      "1/1 [==============================] - 2s 2s/step\n",
      "Có 67.10669708251953 là Rất tích cực cho câu: dịch_vụ\n",
      "1/1 [==============================] - 0s 168ms/step\n",
      "Có 37.67784118652344 là Tích cực cho câu: sản_phẩm mong_đợi\n",
      "1/1 [==============================] - 0s 162ms/step\n",
      "Có 81.09468841552734 là Rất tích cực cho câu: chất_lượng tuyệt_vời hài_lòng\n",
      "1/1 [==============================] - 0s 155ms/step\n",
      "Có 29.176307678222656 là Rất tiêu cực cho câu: giao hàng chậm dịch_vụ kém\n",
      "1/1 [==============================] - 0s 153ms/step\n",
      "Có 36.34663772583008 là Rất tích cực cho câu: mua sản_phẩm\n"
     ]
    }
   ],
   "source": [
    "# Định nghĩa thư mục lưu trữ\n",
    "data_path = r'F:/Phuc/DUE/Năm 4/Khai phá Dữ liệu Web/Báo cáo Cuối kỳ/Data_web'\n",
    "\n",
    "input_texts = [\n",
    "    \"Dịch vụ rất tốt, tôi sẽ quay lại lần sau!\",\n",
    "    \"Sản phẩm này không được như mong đợi.\",\n",
    "    \"Chất lượng tuyệt vời, tôi rất hài lòng!\",\n",
    "    \"Giao hàng chậm và dịch vụ kém.\",\n",
    "    \"Tôi sẽ không mua sản phẩm này nữa.\"\n",
    "]\n",
    "model, tokenizer, max_length = tao_mo_hinh(data_path)\n",
    "label_result_list = []\n",
    "percent_result_list = []\n",
    "list_text = []\n",
    "for text in input_texts:\n",
    "    text = preprocess_normalize_text(text, data_path)\n",
    "    text = stopword_and_tokenize_text(text, data_path)\n",
    "    label_result, percent_result, so_sao = predict_sentiment(model, tokenizer, text, max_length)\n",
    "    print(f'Có {percent_result} là {label_result} cho câu: {text}')\n",
    "    list_text.append({\n",
    "        'Bình luận': text,\n",
    "        'Số sao': so_sao,\n",
    "        'Nhãn': label_result        \n",
    "    })\n",
    "    label_result_list.append(label_result)\n",
    "    percent_result_list.append(percent_result)\n"
   ]
  },
  {
   "cell_type": "code",
   "execution_count": 60,
   "metadata": {},
   "outputs": [],
   "source": [
    "# Kỹ thuật TF-IDF\n",
    "def extract_top_tfidf_words_per_rating(dataset, num_words):\n",
    "    # Tạo TF-IDF vectorizer\n",
    "    tfidf_vectorizer = TfidfVectorizer(ngram_range=(1,2),max_features=5000)  # Giới hạn số từ đặc trưng\n",
    "    \n",
    "    # Lưu từ khóa phổ biến nhất theo từng loại sao\n",
    "    top_words_by_rating = {}\n",
    "    \n",
    "    for rating in sorted(dataset['Số sao'].unique()):\n",
    "        # Lọc dữ liệu theo rating\n",
    "        filtered_data = dataset[dataset['Số sao'] == rating]\n",
    "        \n",
    "        # Tính TF-IDF\n",
    "        tfidf_matrix = tfidf_vectorizer.fit_transform(filtered_data['Bình luận'])\n",
    "        feature_names = tfidf_vectorizer.get_feature_names_out()\n",
    "        # Lấy giá trị trung bình TF-IDF của mỗi từ\n",
    "        tfidf_mean = np.mean(tfidf_matrix.toarray(), axis=0)\n",
    "        tfidf_scores = pd.DataFrame({'word': feature_names, 'score': tfidf_mean})\n",
    "        \n",
    "        # Lấy top từ phổ biến nhất\n",
    "        top_words = tfidf_scores.sort_values(by='score', ascending=False).head(num_words)\n",
    "        top_words_by_rating[rating] = top_words\n",
    "    \n",
    "    return top_words_by_rating"
   ]
  },
  {
   "cell_type": "code",
   "execution_count": 61,
   "metadata": {},
   "outputs": [],
   "source": [
    "from matplotlib.lines import Line2D\n",
    "from matplotlib.colors import LinearSegmentedColormap"
   ]
  },
  {
   "cell_type": "code",
   "execution_count": 68,
   "metadata": {},
   "outputs": [],
   "source": [
    "def plot_pie_and_tfidf_bars(top_words_by_rating, dataset, data_path):\n",
    "    # Đếm số lượng đánh giá theo từng loại sao\n",
    "    sentiment_labels = {\n",
    "        1: \"Rất tiêu cực\",\n",
    "        2: \"Tiêu cực\",\n",
    "        3: \"Trung lập\",\n",
    "        4: \"Tích cực\",\n",
    "        5: \"Rất tích cực\"\n",
    "    }\n",
    "\n",
    "    sentiment_colors = {\n",
    "        \"Rất tiêu cực\": \"#e60000\",  # Màu đỏ\n",
    "        \"Tiêu cực\": \"#e7811a\",      # Màu cam\n",
    "        \"Trung lập\": \"#e8c268\",     # Màu vàng\n",
    "        \"Tích cực\": \"#eb885f\",      # Màu xanh lá nhạt\n",
    "        \"Rất tích cực\": \"#6dd94a\"   # Màu xanh lá đậm\n",
    "    }\n",
    "    rating_counts = dataset['Số sao'].value_counts().sort_index()\n",
    "    sentiment_counts = [rating_counts.get(rating, 0) for rating in sorted(sentiment_labels.keys())]\n",
    "\n",
    "    # Tạo nhãn với tổng số bình luận\n",
    "    labels_with_counts = [\n",
    "        f\"{sentiment_labels[rating]}\"#\\n ({rating_counts.get(rating, 0)} bình luận)\"\n",
    "        for rating in sorted(sentiment_labels.keys())\n",
    "    ]\n",
    "    \n",
    "    # Tạo biểu đồ tròn ở ô đầu tiên\n",
    "    fig, axes = plt.subplots(2, 3, figsize=(20, 12))\n",
    "    axes = axes.flatten()\n",
    "\n",
    "\n",
    "    # Tạo gradient màu từ các màu đã định nghĩa\n",
    "    colors = [sentiment_colors[label] for label in sentiment_colors]\n",
    "    cmap = LinearSegmentedColormap.from_list(\"sentiment_gradient\", colors)\n",
    "    \n",
    "    # Hàm format cho biểu đồ tròn\n",
    "    def autopct_func(pct, allvals):\n",
    "        absolute = int(pct/100.*sum(allvals))\n",
    "        return f\"{pct:.1f}% ({absolute})\"\n",
    "        #return f\"{pct:.1f}% ({absolute} bình luận)\"\n",
    "\n",
    "\n",
    "    # Sử dụng cmap để áp dụng màu gradient\n",
    "    axes[0].pie(\n",
    "        sentiment_counts,\n",
    "        labels=labels_with_counts,\n",
    "        colors=cmap(np.linspace(0, 1, len(sentiment_counts))),\n",
    "        autopct=lambda pct: autopct_func(pct, sentiment_counts),\n",
    "        #labeldistance=1.5,  # Đưa nhãn ra xa hơn một chút\n",
    "        startangle=90,\n",
    "        #pctdistance=0.65\n",
    "    )\n",
    "    axes[0].set_title(\"Tỉ lệ số lượng đánh giá theo cảm xúc\", fontsize=16)\n",
    "    \n",
    "    # # Tạo legend với màu sắc và nhãn có số lượng bình luận\n",
    "    # legend_labels = [\n",
    "    #     Line2D([0], [0], marker='o', color='w', markerfacecolor=sentiment_colors[label], markersize=10, \n",
    "    #         label=f\"{sentiment_labels[rating]}\\n({rating_counts.get(rating, 0)} bình luận)\")\n",
    "    #     for rating, label in sentiment_labels.items()\n",
    "    # ]\n",
    "    # # Điều chỉnh vị trí của nhãn bằng bbox_to_anchor\n",
    "    # axes[0].legend(\n",
    "    # handles=legend_labels,\n",
    "    # loc=\"upper right\",  # Đặt vị trí của legend ở góc trên bên trái\n",
    "    # bbox_to_anchor=(1, 1),  # Di chuyển legend ra ngoài biểu đồ\n",
    "    # fontsize=12,  # Kích thước chữ\n",
    "    # title=\"Chú thích\",  # Tiêu đề cho legend\n",
    "    # title_fontsize=14  # Kích thước tiêu đề\n",
    "    # )\n",
    "    \n",
    "    \n",
    "    \n",
    "    # Màu sắc cảm xúc\n",
    "    sentiment_colors = {\n",
    "        \"Rất tiêu cực\": \"#e60000\",  # Màu đỏ\n",
    "        \"Tiêu cực\": \"#e7811a\",      # Màu cam\n",
    "        \"Trung lập\": \"#e8c268\",     # Màu vàng\n",
    "        \"Tích cực\": \"#eb885f\",      # Màu xanh lá nhạt\n",
    "        \"Rất tích cực\": \"#6dd94a\"   # Màu xanh lá đậm\n",
    "    }\n",
    "\n",
    "    # Thứ tự rating mong muốn\n",
    "    custom_order = [1, 5, 3, 2, 4]\n",
    "\n",
    "    for i, rating in enumerate(custom_order):\n",
    "        ax_index = i + 1  # Đảm bảo dùng đúng index của ax\n",
    "        if rating in top_words_by_rating:\n",
    "            words = top_words_by_rating[rating]\n",
    "\n",
    "            # Lấy màu từ sentiment_colors\n",
    "            sentiment_label = sentiment_labels[rating]\n",
    "            sentiment_color = sentiment_colors.get(sentiment_label, \"#FFFFFF\")  # Màu mặc định là trắng nếu không có màu trong từ điển\n",
    "\n",
    "            # Tạo gradient màu từ màu sắc đã cho\n",
    "            gradient_palette = sns.light_palette(sentiment_color, as_cmap=True)  # Tạo gradient từ màu sắc\n",
    "\n",
    "            # Áp dụng màu gradient cho các thanh (bar)\n",
    "            sns.barplot(\n",
    "                data=words,\n",
    "                x='score',\n",
    "                y='word',\n",
    "                palette=gradient_palette(np.linspace(1, 0.4, len(words))),  # Dùng gradient từ 0.3 đến 1 để tránh quá tối\n",
    "                ax=axes[ax_index],\n",
    "                orient='h'\n",
    "            )\n",
    "            axes[ax_index].set_title(\n",
    "                f\"Đánh giá {sentiment_labels[rating]}\",\n",
    "                fontsize=16\n",
    "                \n",
    "            )\n",
    "            axes[ax_index].set_xlabel(\"TF-IDF Score\", fontsize=12)\n",
    "            axes[ax_index].set_ylabel(\"\")  # Loại bỏ nhãn cột y\n",
    "\n",
    "    # Tắt các ô thừa (nếu có)\n",
    "    for j in range(len(custom_order) + 1, len(axes)):\n",
    "        fig.delaxes(axes[j])\n",
    "\n",
    "    # Điều chỉnh layout\n",
    "    plt.tight_layout()\n",
    "    plt.savefig(f\"{data_path}/dashboard.png\")  # Chỉ định đường dẫn thư mục và tên file\n",
    "    plt.show()"
   ]
  },
  {
   "cell_type": "code",
   "execution_count": 70,
   "metadata": {},
   "outputs": [
    {
     "name": "stderr",
     "output_type": "stream",
     "text": [
      "C:\\Users\\User\\AppData\\Local\\Temp\\ipykernel_19416\\1258384578.py:19: FutureWarning: Series.__getitem__ treating keys as positions is deprecated. In a future version, integer keys will always be treated as labels (consistent with DataFrame behavior). To access a value by position, use `ser.iloc[pos]`\n",
      "  sentiment_counts = [rating_counts.get(rating, 0) for rating in sorted(sentiment_labels.keys())]\n"
     ]
    },
    {
     "data": {
      "image/png": "[encoded data removed]",
      "text/plain": [
       "<Figure size 2000x1200 with 6 Axes>"
      ]
     },
     "metadata": {},
     "output_type": "display_data"
    }
   ],
   "source": [
    "data_path = r'F:/Phuc/DUE/Năm 4/Khai phá Dữ liệu Web/Báo cáo Cuối kỳ/Data_web'\n",
    "df_tfidf = pd.DataFrame(list_text)\n",
    "# Lấy từ phổ biến nhất theo từng loại sao\n",
    "top_words_by_rating = extract_top_tfidf_words_per_rating(df_tfidf, num_words=15)\n",
    "\n",
    "# Vẽ biểu đồ\n",
    "plot_pie_and_tfidf_bars(top_words_by_rating, df_tfidf, data_path)"
   ]
  },
  {
   "cell_type": "code",
   "execution_count": 71,
   "metadata": {},
   "outputs": [],
   "source": [
    "from dotenv import load_dotenv\n",
    "import cloudinary\n",
    "from cloudinary import CloudinaryImage\n",
    "import cloudinary.uploader\n",
    "import cloudinary.api"
   ]
  },
  {
   "cell_type": "code",
   "execution_count": 78,
   "metadata": {},
   "outputs": [],
   "source": [
    "def upload_image(data_path):\n",
    "    load_dotenv(dotenv_path = f'{data_path}/.env')\n",
    "\n",
    "    # Upload the image.\n",
    "    # Set the asset's public ID and allow overwriting the asset with new versions\n",
    "    cloudinary.config(\n",
    "    cloud_name=os.getenv(\"CLOUDINARY_CLOUD_NAME\"),\n",
    "    api_key=os.getenv(\"CLOUDINARY_API_KEY\"),\n",
    "    api_secret=os.getenv(\"CLOUDINARY_API_SECRET\"),\n",
    "    secure=True\n",
    "    )\n",
    "\n",
    "    response = cloudinary.uploader.upload(f\"{data_path}/dashboard.png\", \n",
    "                                public_id = 'Khai_pha_Web', \n",
    "                                unique_filename = False, \n",
    "                                overwrite = True,\n",
    "                                folder=\"Khai_pha_Web\")\n",
    "\n",
    "    image_url = response['secure_url']\n",
    "    \n",
    "    return image_url"
   ]
  },
  {
   "cell_type": "code",
   "execution_count": 79,
   "metadata": {},
   "outputs": [
    {
     "data": {
      "text/plain": [
       "'https://res.cloudinary.com/day4wv1aw/image/upload/v1735107945/Khai_pha_Web/Khai_pha_Web.png'"
      ]
     },
     "execution_count": 79,
     "metadata": {},
     "output_type": "execute_result"
    }
   ],
   "source": [
    "upload_image(data_path)"
   ]
  }
 ],
 "metadata": {
  "kernelspec": {
   "display_name": "Build-Model",
   "language": "python",
   "name": "python3"
  },
  "language_info": {
   "codemirror_mode": {
    "name": "ipython",
    "version": 3
   },
   "file_extension": ".py",
   "mimetype": "text/x-python",
   "name": "python",
   "nbconvert_exporter": "python",
   "pygments_lexer": "ipython3",
   "version": "3.11.0"
  }
 },
 "nbformat": 4,
 "nbformat_minor": 2
}
